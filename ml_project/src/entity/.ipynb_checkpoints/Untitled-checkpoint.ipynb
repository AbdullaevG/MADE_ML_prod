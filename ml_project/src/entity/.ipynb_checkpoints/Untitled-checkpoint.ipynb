{
 "cells": [
  {
   "cell_type": "code",
   "execution_count": 2,
   "id": "4e88a1d7",
   "metadata": {},
   "outputs": [],
   "source": [
    "import json\n",
    "import logging\n",
    "import sys\n",
    "\n",
    "import click\n",
    "import pandas as pd\n",
    "\n",
    "logger = logging.getLogger(__name__)\n",
    "handler = logging.StreamHandler(sys.stdout)\n",
    "logger.setLevel(logging.INFO)\n",
    "logger.addHandler(handler)"
   ]
  },
  {
   "cell_type": "markdown",
   "id": "f04cdba3",
   "metadata": {},
   "source": [
    "#### 1. Download parameters for pipeline from configs_file"
   ]
  },
  {
   "cell_type": "code",
   "execution_count": 3,
   "id": "09a14639",
   "metadata": {},
   "outputs": [],
   "source": [
    "from typing import List, Optional\n",
    "from dataclasses import dataclass, field\n",
    "from marshmallow_dataclass import class_schema\n",
    "import yaml\n",
    "\n",
    "RANDOM_STATE = 42\n",
    "TEST_SIZE = 0.3\n",
    "N_ESTIMATORS = 100\n",
    "\n",
    "\n",
    "@dataclass()\n",
    "class DownloadingParams:\n",
    "    \"\"\" Structure for train model parameters \"\"\"\n",
    "    file_link: str = field()\n",
    "    output_folder: str = field(default=\"data/raw/\")\n",
    "    name: str = field(default=\"data.zip\")\n",
    "        \n",
    "@dataclass\n",
    "class SplittingParams:\n",
    "    \"\"\" Structure contain parameters for splitting data \"\"\"\n",
    "    test_size: float = field(default=TEST_SIZE)\n",
    "    random_state: int = field(default=RANDOM_STATE)\n",
    "        \n",
    "\n",
    "@dataclass\n",
    "class FeatureParams:\n",
    "    \"\"\" Structure contain categorical and numerical params in dataset\"\"\"\n",
    "    cat_features: List[str]\n",
    "    num_features: List[str]\n",
    "    target: Optional[str]\n",
    "\n",
    "@dataclass\n",
    "class OutliersNulls:\n",
    "    \"\"\" Structure contain parameters for preparing data \"\"\"\n",
    "    outliers: str = field(default= 'RestingBP')\n",
    "    nulls: str = field(default= 'Cholesterol')\n",
    "    target: str = field(default='HeartDisease')\n",
    "        \n",
    "MEAN_SAMPLES_LEAF = 5\n",
    "CRITERION = \"gini\"\n",
    "\n",
    "@dataclass()\n",
    "class ModelType:\n",
    "    \"\"\" Structure for train model parameters \"\"\"\n",
    "    model_type: str = field(default='RandomForestClassifier')\n",
    "    n_estimators: int = field(default=N_ESTIMATORS)\n",
    "    min_samples_leaf: int = field(default=MEAN_SAMPLES_LEAF)\n",
    "    criterion: str = field(default=CRITERION)\n",
    "    random_state: int = field(default=RANDOM_STATE)\n",
    "\n",
    "\n",
    "@dataclass\n",
    "class CustomTransformer:\n",
    "    \"\"\" Structure contain switch for custom transformer \"\"\"\n",
    "    use_custom_transformer: bool"
   ]
  },
  {
   "cell_type": "code",
   "execution_count": 5,
   "id": "44ccd30c",
   "metadata": {},
   "outputs": [],
   "source": [
    "@dataclass\n",
    "class TrainingPipelineParams:\n",
    "    \"\"\"Structure for pipeline parameters\"\"\"\n",
    "    input_data_path: str\n",
    "    metric_path: str\n",
    "    save_model_path: str\n",
    "    save_transformer_path: str\n",
    "    downloading_params: DownloadingParams\n",
    "    model_type: ModelType\n",
    "    clean_features: OutliersNulls\n",
    "    custom_transformer: CustomTransformer\n",
    "    feature_params: FeatureParams\n",
    "    splitting_params: SplittingParams\n",
    "\n",
    "\n",
    "TrainingPipelineParamsSchema = class_schema(TrainingPipelineParams)\n",
    "\n",
    "\n",
    "def read_training_pipeline_params(path: str) -> TrainingPipelineParams:\n",
    "    with open(path, \"r\") as input_stream:\n",
    "        schema = TrainingPipelineParamsSchema()\n",
    "        return schema.load(yaml.safe_load(input_stream))"
   ]
  },
  {
   "cell_type": "code",
   "execution_count": 6,
   "id": "99d45c44",
   "metadata": {},
   "outputs": [
    {
     "ename": "ValidationError",
     "evalue": "{'clean_features': {'nulls': ['Not a valid list.'], 'outliers': ['Not a valid list.']}}",
     "output_type": "error",
     "traceback": [
      "\u001b[1;31m---------------------------------------------------------------------------\u001b[0m",
      "\u001b[1;31mValidationError\u001b[0m                           Traceback (most recent call last)",
      "\u001b[1;32m<ipython-input-6-09f5d780b521>\u001b[0m in \u001b[0;36m<module>\u001b[1;34m\u001b[0m\n\u001b[0;32m      1\u001b[0m \u001b[0mconfig_path\u001b[0m \u001b[1;33m=\u001b[0m \u001b[1;34m\"../../configs/train_config_random_forest.yaml\"\u001b[0m\u001b[1;33m\u001b[0m\u001b[1;33m\u001b[0m\u001b[0m\n\u001b[1;32m----> 2\u001b[1;33m \u001b[0mtraining_pipeline_params\u001b[0m\u001b[1;33m:\u001b[0m \u001b[0mTrainingPipelineParams\u001b[0m \u001b[1;33m=\u001b[0m \u001b[0mread_training_pipeline_params\u001b[0m\u001b[1;33m(\u001b[0m\u001b[0mconfig_path\u001b[0m\u001b[1;33m)\u001b[0m\u001b[1;33m\u001b[0m\u001b[1;33m\u001b[0m\u001b[0m\n\u001b[0m\u001b[0;32m      3\u001b[0m \u001b[1;33m\u001b[0m\u001b[0m\n\u001b[0;32m      4\u001b[0m \u001b[0mtraining_pipeline_params\u001b[0m\u001b[1;33m\u001b[0m\u001b[1;33m\u001b[0m\u001b[0m\n",
      "\u001b[1;32m<ipython-input-5-6184eba05b79>\u001b[0m in \u001b[0;36mread_training_pipeline_params\u001b[1;34m(path)\u001b[0m\n\u001b[0;32m     20\u001b[0m     \u001b[1;32mwith\u001b[0m \u001b[0mopen\u001b[0m\u001b[1;33m(\u001b[0m\u001b[0mpath\u001b[0m\u001b[1;33m,\u001b[0m \u001b[1;34m\"r\"\u001b[0m\u001b[1;33m)\u001b[0m \u001b[1;32mas\u001b[0m \u001b[0minput_stream\u001b[0m\u001b[1;33m:\u001b[0m\u001b[1;33m\u001b[0m\u001b[1;33m\u001b[0m\u001b[0m\n\u001b[0;32m     21\u001b[0m         \u001b[0mschema\u001b[0m \u001b[1;33m=\u001b[0m \u001b[0mTrainingPipelineParamsSchema\u001b[0m\u001b[1;33m(\u001b[0m\u001b[1;33m)\u001b[0m\u001b[1;33m\u001b[0m\u001b[1;33m\u001b[0m\u001b[0m\n\u001b[1;32m---> 22\u001b[1;33m         \u001b[1;32mreturn\u001b[0m \u001b[0mschema\u001b[0m\u001b[1;33m.\u001b[0m\u001b[0mload\u001b[0m\u001b[1;33m(\u001b[0m\u001b[0myaml\u001b[0m\u001b[1;33m.\u001b[0m\u001b[0msafe_load\u001b[0m\u001b[1;33m(\u001b[0m\u001b[0minput_stream\u001b[0m\u001b[1;33m)\u001b[0m\u001b[1;33m)\u001b[0m\u001b[1;33m\u001b[0m\u001b[1;33m\u001b[0m\u001b[0m\n\u001b[0m",
      "\u001b[1;32m~\\anaconda3\\lib\\site-packages\\marshmallow_dataclass\\__init__.py\u001b[0m in \u001b[0;36mload\u001b[1;34m(self, data, many, **kwargs)\u001b[0m\n\u001b[0;32m    745\u001b[0m     \u001b[1;32mclass\u001b[0m \u001b[0mBaseSchema\u001b[0m\u001b[1;33m(\u001b[0m\u001b[0mbase_schema\u001b[0m \u001b[1;32mor\u001b[0m \u001b[0mmarshmallow\u001b[0m\u001b[1;33m.\u001b[0m\u001b[0mSchema\u001b[0m\u001b[1;33m)\u001b[0m\u001b[1;33m:\u001b[0m  \u001b[1;31m# type: ignore\u001b[0m\u001b[1;33m\u001b[0m\u001b[1;33m\u001b[0m\u001b[0m\n\u001b[0;32m    746\u001b[0m         \u001b[1;32mdef\u001b[0m \u001b[0mload\u001b[0m\u001b[1;33m(\u001b[0m\u001b[0mself\u001b[0m\u001b[1;33m,\u001b[0m \u001b[0mdata\u001b[0m\u001b[1;33m:\u001b[0m \u001b[0mMapping\u001b[0m\u001b[1;33m,\u001b[0m \u001b[1;33m*\u001b[0m\u001b[1;33m,\u001b[0m \u001b[0mmany\u001b[0m\u001b[1;33m:\u001b[0m \u001b[0mbool\u001b[0m \u001b[1;33m=\u001b[0m \u001b[1;32mNone\u001b[0m\u001b[1;33m,\u001b[0m \u001b[1;33m**\u001b[0m\u001b[0mkwargs\u001b[0m\u001b[1;33m)\u001b[0m\u001b[1;33m:\u001b[0m\u001b[1;33m\u001b[0m\u001b[1;33m\u001b[0m\u001b[0m\n\u001b[1;32m--> 747\u001b[1;33m             \u001b[0mall_loaded\u001b[0m \u001b[1;33m=\u001b[0m \u001b[0msuper\u001b[0m\u001b[1;33m(\u001b[0m\u001b[1;33m)\u001b[0m\u001b[1;33m.\u001b[0m\u001b[0mload\u001b[0m\u001b[1;33m(\u001b[0m\u001b[0mdata\u001b[0m\u001b[1;33m,\u001b[0m \u001b[0mmany\u001b[0m\u001b[1;33m=\u001b[0m\u001b[0mmany\u001b[0m\u001b[1;33m,\u001b[0m \u001b[1;33m**\u001b[0m\u001b[0mkwargs\u001b[0m\u001b[1;33m)\u001b[0m\u001b[1;33m\u001b[0m\u001b[1;33m\u001b[0m\u001b[0m\n\u001b[0m\u001b[0;32m    748\u001b[0m             \u001b[0mmany\u001b[0m \u001b[1;33m=\u001b[0m \u001b[0mself\u001b[0m\u001b[1;33m.\u001b[0m\u001b[0mmany\u001b[0m \u001b[1;32mif\u001b[0m \u001b[0mmany\u001b[0m \u001b[1;32mis\u001b[0m \u001b[1;32mNone\u001b[0m \u001b[1;32melse\u001b[0m \u001b[0mbool\u001b[0m\u001b[1;33m(\u001b[0m\u001b[0mmany\u001b[0m\u001b[1;33m)\u001b[0m\u001b[1;33m\u001b[0m\u001b[1;33m\u001b[0m\u001b[0m\n\u001b[0;32m    749\u001b[0m             \u001b[1;32mif\u001b[0m \u001b[0mmany\u001b[0m\u001b[1;33m:\u001b[0m\u001b[1;33m\u001b[0m\u001b[1;33m\u001b[0m\u001b[0m\n",
      "\u001b[1;32m~\\anaconda3\\lib\\site-packages\\marshmallow\\schema.py\u001b[0m in \u001b[0;36mload\u001b[1;34m(self, data, many, partial, unknown)\u001b[0m\n\u001b[0;32m    720\u001b[0m             \u001b[1;32mif\u001b[0m \u001b[0minvalid\u001b[0m \u001b[0mdata\u001b[0m \u001b[0mare\u001b[0m \u001b[0mpassed\u001b[0m\u001b[1;33m.\u001b[0m\u001b[1;33m\u001b[0m\u001b[1;33m\u001b[0m\u001b[0m\n\u001b[0;32m    721\u001b[0m         \"\"\"\n\u001b[1;32m--> 722\u001b[1;33m         return self._do_load(\n\u001b[0m\u001b[0;32m    723\u001b[0m             \u001b[0mdata\u001b[0m\u001b[1;33m,\u001b[0m \u001b[0mmany\u001b[0m\u001b[1;33m=\u001b[0m\u001b[0mmany\u001b[0m\u001b[1;33m,\u001b[0m \u001b[0mpartial\u001b[0m\u001b[1;33m=\u001b[0m\u001b[0mpartial\u001b[0m\u001b[1;33m,\u001b[0m \u001b[0munknown\u001b[0m\u001b[1;33m=\u001b[0m\u001b[0munknown\u001b[0m\u001b[1;33m,\u001b[0m \u001b[0mpostprocess\u001b[0m\u001b[1;33m=\u001b[0m\u001b[1;32mTrue\u001b[0m\u001b[1;33m\u001b[0m\u001b[1;33m\u001b[0m\u001b[0m\n\u001b[0;32m    724\u001b[0m         )\n",
      "\u001b[1;32m~\\anaconda3\\lib\\site-packages\\marshmallow\\schema.py\u001b[0m in \u001b[0;36m_do_load\u001b[1;34m(self, data, many, partial, unknown, postprocess)\u001b[0m\n\u001b[0;32m    907\u001b[0m             \u001b[0mexc\u001b[0m \u001b[1;33m=\u001b[0m \u001b[0mValidationError\u001b[0m\u001b[1;33m(\u001b[0m\u001b[0merrors\u001b[0m\u001b[1;33m,\u001b[0m \u001b[0mdata\u001b[0m\u001b[1;33m=\u001b[0m\u001b[0mdata\u001b[0m\u001b[1;33m,\u001b[0m \u001b[0mvalid_data\u001b[0m\u001b[1;33m=\u001b[0m\u001b[0mresult\u001b[0m\u001b[1;33m)\u001b[0m\u001b[1;33m\u001b[0m\u001b[1;33m\u001b[0m\u001b[0m\n\u001b[0;32m    908\u001b[0m             \u001b[0mself\u001b[0m\u001b[1;33m.\u001b[0m\u001b[0mhandle_error\u001b[0m\u001b[1;33m(\u001b[0m\u001b[0mexc\u001b[0m\u001b[1;33m,\u001b[0m \u001b[0mdata\u001b[0m\u001b[1;33m,\u001b[0m \u001b[0mmany\u001b[0m\u001b[1;33m=\u001b[0m\u001b[0mmany\u001b[0m\u001b[1;33m,\u001b[0m \u001b[0mpartial\u001b[0m\u001b[1;33m=\u001b[0m\u001b[0mpartial\u001b[0m\u001b[1;33m)\u001b[0m\u001b[1;33m\u001b[0m\u001b[1;33m\u001b[0m\u001b[0m\n\u001b[1;32m--> 909\u001b[1;33m             \u001b[1;32mraise\u001b[0m \u001b[0mexc\u001b[0m\u001b[1;33m\u001b[0m\u001b[1;33m\u001b[0m\u001b[0m\n\u001b[0m\u001b[0;32m    910\u001b[0m \u001b[1;33m\u001b[0m\u001b[0m\n\u001b[0;32m    911\u001b[0m         \u001b[1;32mreturn\u001b[0m \u001b[0mresult\u001b[0m\u001b[1;33m\u001b[0m\u001b[1;33m\u001b[0m\u001b[0m\n",
      "\u001b[1;31mValidationError\u001b[0m: {'clean_features': {'nulls': ['Not a valid list.'], 'outliers': ['Not a valid list.']}}"
     ]
    }
   ],
   "source": [
    "config_path = \"../../configs/train_config_random_forest.yaml\"\n",
    "training_pipeline_params: TrainingPipelineParams = read_training_pipeline_params(config_path)\n",
    "\n",
    "training_pipeline_params"
   ]
  },
  {
   "cell_type": "code",
   "execution_count": null,
   "id": "ec2fefe6",
   "metadata": {},
   "outputs": [],
   "source": [
    "training_pipeline_params.downloading_params"
   ]
  },
  {
   "cell_type": "code",
   "execution_count": null,
   "id": "c2bb9082",
   "metadata": {},
   "outputs": [],
   "source": [
    "import gdown"
   ]
  },
  {
   "cell_type": "code",
   "execution_count": null,
   "id": "e5960145",
   "metadata": {},
   "outputs": [],
   "source": [
    "def download_data(url: str, output_file_path: str):\n",
    "    logger.info(\"Loading dataset... \")\n",
    "    try:\n",
    "        gdown.download(url=url, output=output_file_path, fuzzy=True, quiet=True)\n",
    "        logger.info(\"Dataset was downloaded\")\n",
    "    except ConnectionError:\n",
    "        logger.info(\"ConnectionError: you should have link to the internet!\")\n",
    "\n",
    "url = training_pipeline_params.downloading_params.file_link\n",
    "output = \"../../\" + training_pipeline_params.downloading_params.output_folder + training_pipeline_params.downloading_params.name\n",
    "download_data(url, output)"
   ]
  },
  {
   "cell_type": "code",
   "execution_count": null,
   "id": "b1580523",
   "metadata": {},
   "outputs": [],
   "source": [
    "training_pipeline_params.downloading_params.output_folder"
   ]
  },
  {
   "cell_type": "code",
   "execution_count": null,
   "id": "0e6d33fb",
   "metadata": {},
   "outputs": [],
   "source": [
    "import zipfile\n",
    "def unzip_downloaded_data(path_to_zip_file: str):\n",
    "    with zipfile.ZipFile(path_to_zip_file, 'r') as zip_ref:\n",
    "        zip_ref.extractall(path_to_zip_file)"
   ]
  },
  {
   "cell_type": "code",
   "execution_count": null,
   "id": "d10ad5b4",
   "metadata": {},
   "outputs": [],
   "source": [
    "unzip_downloaded_data(output, \"../../\" + training_pipeline_params.downloading_params.output_folder)"
   ]
  },
  {
   "cell_type": "code",
   "execution_count": null,
   "id": "fa1a5227",
   "metadata": {},
   "outputs": [],
   "source": [
    "def read_raw_data(path: str) -> pd.DataFrame:\n",
    "    \"\"\"Read data from csv file\"\"\"\n",
    "    logger.info('Loading dataset from %s...', path)\n",
    "    df = pd.read_csv(path)\n",
    "    logger.info('Loading from %s finished', path)\n",
    "    logger.info('Data shape %s', df.shape)\n",
    "    return df\n",
    "#                                 training_pipeline_params.input_data_path\n",
    "df: pd.DataFrame = read_raw_data('../../' + training_pipeline_params.input_data_path) "
   ]
  },
  {
   "cell_type": "code",
   "execution_count": null,
   "id": "81a148f6",
   "metadata": {},
   "outputs": [],
   "source": [
    "training_pipeline_params.clean_features"
   ]
  },
  {
   "cell_type": "code",
   "execution_count": null,
   "id": "7d5ce11f",
   "metadata": {},
   "outputs": [],
   "source": [
    "training_pipeline_params.clean_features."
   ]
  },
  {
   "cell_type": "code",
   "execution_count": null,
   "id": "9680b0ae",
   "metadata": {},
   "outputs": [],
   "source": [
    "from typing import Tuple, Optional\n",
    "def prepare_data(df: pd.DataFrame, params) -> Tuple[pd.DataFrame, Optional[pd.Series]]:\n",
    "    \"\"\"Prepare data\"\"\"\n",
    "    logger.info('Preparing dataset...')\n",
    "    logger.info('Outliers handling...')\n",
    "    outliers_field = params.outliers_field\n",
    "    row = df[df[outliers_field] == 0].index\n",
    "    df = df.drop(df.index[row])\n",
    "\n",
    "    logger.info('Nulls handling...')\n",
    "    nulls_field = params.nulls_field\n",
    "    median_values = df[nulls_field].median()\n",
    "    row = df[df[nulls_field] == 0].index\n",
    "    df.loc[row, nulls_field] = median_values\n",
    "\n",
    "    target_name = params.target_field\n",
    "    if target_name in df.columns:\n",
    "        logger.info('Extract and drop target feature...')\n",
    "        target = df[target_name]\n",
    "        df = df.drop([target_name], axis=1)\n",
    "        return df, target\n",
    "    else:\n",
    "        return df, None"
   ]
  },
  {
   "cell_type": "code",
   "execution_count": null,
   "id": "d4120e96",
   "metadata": {},
   "outputs": [],
   "source": [
    "training_pipeline_params.clean_features"
   ]
  },
  {
   "cell_type": "code",
   "execution_count": null,
   "id": "36253b8a",
   "metadata": {},
   "outputs": [],
   "source": [
    "prepare_data(df, training_pipeline_params.clean_features)"
   ]
  },
  {
   "cell_type": "code",
   "execution_count": null,
   "id": "889449a8",
   "metadata": {},
   "outputs": [],
   "source": []
  }
 ],
 "metadata": {
  "kernelspec": {
   "display_name": "Python 3",
   "language": "python",
   "name": "python3"
  },
  "language_info": {
   "codemirror_mode": {
    "name": "ipython",
    "version": 3
   },
   "file_extension": ".py",
   "mimetype": "text/x-python",
   "name": "python",
   "nbconvert_exporter": "python",
   "pygments_lexer": "ipython3",
   "version": "3.8.5"
  }
 },
 "nbformat": 4,
 "nbformat_minor": 5
}
